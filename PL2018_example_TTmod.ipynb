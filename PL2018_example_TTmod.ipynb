{
 "cells": [
  {
   "cell_type": "markdown",
   "metadata": {},
   "source": [
    "# This notebook shows one very simple example of modulation field estimation with QE technique, from temperature data. \n",
    "\n",
    "Aim is to reconstruct $f(\\hat n)$, where $$ T^{\\rm CMB, \\rm obs}(\\hat n) = T^{\\rm CMB}(\\hat n)(1 + f(\\hat n)) $$\n"
   ]
  },
  {
   "cell_type": "code",
   "execution_count": 1,
   "metadata": {},
   "outputs": [
    {
     "name": "stdout",
     "output_type": "stream",
     "text": [
      "Already up-to-date.\n"
     ]
    }
   ],
   "source": [
    "%matplotlib inline\n",
    "matplotlib.rcParams.update({'font.size': 12})\n",
    "import sys\n",
    "import os\n",
    "import imp\n",
    "from plancklens2018 import qresp\n",
    "from plancklens2018 import qest\n",
    "from plancklens2018 import utils\n",
    "from plancklens2018.filt import filt_simple\n",
    "import healpy as hp"
   ]
  },
  {
   "cell_type": "markdown",
   "metadata": {},
   "source": [
    "# We use Planck-like noise levels, transfer function etc parameters:"
   ]
  },
  {
   "cell_type": "code",
   "execution_count": 2,
   "metadata": {
    "collapsed": true
   },
   "outputs": [],
   "source": [
    "nlevt = 25.  # in uK-arcmin.\n",
    "nlevp = 55.\n",
    "nside = 2048 \n",
    "transf = hp.gauss_beam(5. / 60 / 180 * np.pi, lmax=2048)"
   ]
  },
  {
   "cell_type": "markdown",
   "metadata": {},
   "source": [
    "# Next we evaluate the analytical response of the TT-QE modulation estimator \n",
    "\n",
    "We will use this to normalize our estimates of $f$.\n",
    "\n",
    "To do this, we define the parameters of our estimator and call *get_response*"
   ]
  },
  {
   "cell_type": "code",
   "execution_count": 3,
   "metadata": {},
   "outputs": [
    {
     "name": "stdout",
     "output_type": "stream",
     "text": [
      "('get_hl::spins: ', 0, 0, 0, 0)\n",
      "('get_hl::spins: ', 0, 0, 0, 0)\n",
      "('get_hl::spins: ', 0, 0, 0, 0)\n",
      "('get_hl::spins: ', 0, 0, 0, 0)\n"
     ]
    },
    {
     "data": {
      "text/plain": [
       "Text(0,0.5,'$1 /R_L $')"
      ]
     },
     "execution_count": 3,
     "metadata": {},
     "output_type": "execute_result"
    },
    {
     "data": {
      "image/png": "[encoded data removed]",
      "text/plain": [
       "<Figure size 432x288 with 1 Axes>"
      ]
     },
     "metadata": {},
     "output_type": "display_data"
    }
   ],
   "source": [
    "qe_key = 'ftt' # Modulation estimator from temperature.\n",
    "aniso_source  = 'f'\n",
    "lmax_ivf = 2048 # Max. CMB multipole used in QE.\n",
    "\n",
    "cls_len = utils.camb_clfile('./inputs/cls/FFP10_wdipole_lensedCls.dat') # CMB spectra of the fiducial cosmo, from the repository\n",
    "cls_weights = utils.camb_clfile('./inputs/cls/FFP10_wdipole_lensedCls.dat') # QE fiducial weights (here identical to lensed CMB spectra)\n",
    "\n",
    "# Inverse-variance filters for idealised, full-sky maps:\n",
    "ftl = 1. / (cls_len['tt'][:lmax_ivf + 1] + (nlevt / 60. /180. * np.pi) ** 2 / transf ** 2)\n",
    "fel = 1. / (cls_len['ee'][:lmax_ivf + 1] + (nlevp / 60. /180. * np.pi) ** 2 / transf ** 2) \n",
    "fbl = 1. / (cls_len['bb'][:lmax_ivf + 1] + (nlevp / 60. /180. * np.pi) ** 2 / transf ** 2)\n",
    "ftl[:100] *= 0. # We exclude the multipoles up to 100 in the analysis\n",
    "fel[:100] *= 0.\n",
    "fbl[:100] *= 0.\n",
    "\n",
    "respG, respC = qresp.get_response_sepTP(qe_key, lmax_ivf, aniso_source, cls_weights, cls_len, {'t': ftl, 'e':fel, 'b':fbl})\n",
    "#: This methods always give the gradient (G) and curl (C) responses, but in this case f is spin-0 hence has vanishing C mode (respC = 0)\n",
    "qnorm = 1. / respG # For TT with optimal weighting, 1 / resp is not only the normalization but also the expected noise level\n",
    "pl.loglog(qnorm)\n",
    "pl.xlabel('$L$')\n",
    "pl.ylabel('$1 /R_L $')"
   ]
  },
  {
   "cell_type": "markdown",
   "metadata": {},
   "source": [
    "# Now we generate a modulation field, simulate (noise-free) CMB data and test reconstruction.\n",
    "\n",
    "* We generate $f$\n",
    "* We then build two simulation libraries (simple full-sky CMBS, reading maps from my NERSC scratch, and adding the transfer function). One will have no modulation field, the second will have $f$.\n",
    "* Next we define filtering libraries, to inverse-variance filter the simulations. (Here, trivial isotropic filtering)\n",
    "* With the filter libraries at hands, we then define the QE libraries which actually will compute the estimates of $f$ on the simulations."
   ]
  },
  {
   "cell_type": "code",
   "execution_count": 4,
   "metadata": {
    "collapsed": true
   },
   "outputs": [],
   "source": [
    "flm = hp.synalm(np.ones(11) * 1e-4, new=True) \n",
    "# White large-scale modulation field, detectable according to noise levels above"
   ]
  },
  {
   "cell_type": "code",
   "execution_count": 5,
   "metadata": {},
   "outputs": [
    {
     "name": "stdout",
     "output_type": "stream",
     "text": [
      "Caching sky fractions...\n",
      "Caching sky fractions...\n"
     ]
    }
   ],
   "source": [
    "class cmb_sims:\n",
    "    \"\"\"Simple sim. libraries of noise-free Planck FFP10 sims from my scratch. \n",
    "    \n",
    "    \"\"\"\n",
    "    def __init__(self):\n",
    "        pass\n",
    "    def get_dat_tmap():\n",
    "        alm = hp.read_alm('/global/cscratch1/sd/jcarron/jpipe/temp/lib_sims_cmb_lens_alm_from_ffp10_backup_wno_boost/sim_%04d_tlm.fits'%1000)\n",
    "        hp.almxfl(alm, transf, inplace=True)               \n",
    "        return hp.alm2map(alm, nside)\n",
    "    \n",
    "    def get_sim_tmap(self, idx):\n",
    "        assert idx != 1000\n",
    "        alm = hp.read_alm('/global/cscratch1/sd/jcarron/jpipe/temp/lib_sims_cmb_lens_alm_from_ffp10_backup_wno_boost/sim_%04d_tlm.fits'%idx)\n",
    "        hp.almxfl(alm, transf, inplace=True)               \n",
    "        return hp.alm2map(alm, nside)    \n",
    "    def hashdict(self):\n",
    "        return {'sims': 'noisefree ffp10 on JC scratch for Kareem TT mod example'}\n",
    "    \n",
    "class cmb_sims_wmod:\n",
    "    \"\"\"Same but modulated with field f. Inputs flm are its harmonic coefficients (healpy alm array).   \n",
    "    \n",
    "    \"\"\"\n",
    "    def __init__(self, flm):\n",
    "        self.flm = flm\n",
    "        \n",
    "    def get_dat_tmap():\n",
    "        ret = hp.alm2map(hp.read_alm('/global/cscratch1/sd/jcarron/jpipe/temp/lib_sims_cmb_lens_alm_from_ffp10_backup_wno_boost/sim_%04d_tlm.fits'%1000), 2048)\n",
    "        ret *= (1. + hp.alm2map(self.flm, 2048))\n",
    "        return hp.alm2map(hp.almxfl(hp.map2alm(ret, lmax=len(transf)-1, iter=0), transf), nside)    \n",
    "\n",
    "    def get_sim_tmap(self, idx):\n",
    "        assert idx != 1000\n",
    "        ret = hp.alm2map(hp.read_alm('/global/cscratch1/sd/jcarron/jpipe/temp/lib_sims_cmb_lens_alm_from_ffp10_backup_wno_boost/sim_%04d_tlm.fits'%idx), 2048)\n",
    "        ret *= (1. + hp.alm2map(self.flm, 2048))\n",
    "        return hp.alm2map(hp.almxfl(hp.map2alm(ret, lmax=len(transf)-1, iter=0), transf), nside)    \n",
    "\n",
    "    \n",
    "    def hashdict(self):\n",
    "        return {'sims': 'noisefree ffp10 with mod. on JC scratch for Kareem TT mod example wmod', 'mod_lm': utils.clhash(self.flm, dtype=np.complex64)}\n",
    "\n",
    "sim_lib = cmb_sims()\n",
    "ivfs = filt_simple.library_fullsky_sepTP('./temp/ivfs_ftt_test_forKareem', sim_lib, nside, transf, cls_len, ftl, fel, fbl, cache=False)\n",
    "qlms_dd = qest.library_sepTP('./temp/qlmsdd_ftt_test_forKareem', ivfs, ivfs, cls_len['te'], 2048)\n",
    "\n",
    "sim_lib_wm = cmb_sims_wmod(flm)\n",
    "ivfs_wm = filt_simple.library_fullsky_sepTP('./temp/ivfs_wm_ftt_test_forKareem', sim_lib_wm, nside, transf, cls_len, ftl, fel, fbl, cache=False)\n",
    "qlms_dd_wm = qest.library_sepTP('./temp/qlmsdd_wf_ftt_test_forKareem', ivfs_wm, ivfs_wm, cls_len['te'], 2048)\n"
   ]
  },
  {
   "cell_type": "markdown",
   "metadata": {},
   "source": [
    "# Everything is ready, let's calculate!\n",
    "\n",
    "* We can just call *get_sim_qlm* to get the QE estimates (this will call the simulations, filter them, and build the estimates), and normalize them properly. \n",
    "* We then compare reconstructed spectra, to input modulation spectrum, they should match quite well\n",
    "* Of course plenty of complications in more realistic setups."
   ]
  },
  {
   "cell_type": "code",
   "execution_count": 6,
   "metadata": {},
   "outputs": [
    {
     "name": "stdout",
     "output_type": "stream",
     "text": [
      "Sigma is 0.000000 arcmin (0.000000 rad) \n",
      "-> fwhm is 0.000000 arcmin\n",
      "Sigma is 0.000000 arcmin (0.000000 rad) \n",
      "-> fwhm is 0.000000 arcmin\n",
      "Sigma is 0.000000 arcmin (0.000000 rad) \n",
      "-> fwhm is 0.000000 arcmin\n",
      "Sigma is 0.000000 arcmin (0.000000 rad) \n",
      "-> fwhm is 0.000000 arcmin\n",
      "Sigma is 0.000000 arcmin (0.000000 rad) \n",
      "-> fwhm is 0.000000 arcmin\n",
      "Sigma is 0.000000 arcmin (0.000000 rad) \n",
      "-> fwhm is 0.000000 arcmin\n",
      "Sigma is 0.000000 arcmin (0.000000 rad) \n",
      "-> fwhm is 0.000000 arcmin\n",
      "Sigma is 0.000000 arcmin (0.000000 rad) \n",
      "-> fwhm is 0.000000 arcmin\n",
      "Sigma is 0.000000 arcmin (0.000000 rad) \n",
      "-> fwhm is 0.000000 arcmin\n",
      "Sigma is 0.000000 arcmin (0.000000 rad) \n",
      "-> fwhm is 0.000000 arcmin\n"
     ]
    },
    {
     "data": {
      "text/plain": [
       "<matplotlib.legend.Legend at 0x2b1f73280610>"
      ]
     },
     "execution_count": 6,
     "metadata": {},
     "output_type": "execute_result"
    },
    {
     "data": {
      "image/png": "[encoded data removed]",
      "text/plain": [
       "<Figure size 432x288 with 1 Axes>"
      ]
     },
     "metadata": {},
     "output_type": "display_data"
    }
   ],
   "source": [
    "f1 = hp.almxfl(qlms_dd.get_sim_qlm('ftt', 0), qnorm)\n",
    "f2 =  hp.almxfl(qlms_dd_wm.get_sim_qlm('ftt', 0), qnorm)\n",
    "\n",
    "ell = np.arange(1, 1000)\n",
    "pl.loglog(ell, hp.alm2cl(f1)[ell], label='rec. spectrum (sim wo mod.)')\n",
    "pl.loglog(ell, hp.alm2cl(f2)[ell], label='rec. spectrum (sim w. mod.)')\n",
    "\n",
    "pl.plot(np.arange(11), hp.alm2cl(flm), label='f input realization spectrum')\n",
    "pl.xlabel(r'$\\ell$')\n",
    "pl.ylabel(r'$C^{\\hat f \\hat f}_\\ell$')\n",
    "pl.legend()"
   ]
  }
 ],
 "metadata": {
  "kernelspec": {
   "display_name": "Python [py27]",
   "language": "python",
   "name": "Python [py27]"
  },
  "language_info": {
   "codemirror_mode": {
    "name": "ipython",
    "version": 2
   },
   "file_extension": ".py",
   "mimetype": "text/x-python",
   "name": "python",
   "nbconvert_exporter": "python",
   "pygments_lexer": "ipython2",
   "version": "2.7.14"
  }
 },
 "nbformat": 4,
 "nbformat_minor": 2
}
